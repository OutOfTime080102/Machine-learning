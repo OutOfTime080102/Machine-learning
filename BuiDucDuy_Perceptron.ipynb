{
 "cells": [
  {
   "cell_type": "code",
   "execution_count": 20,
   "outputs": [
    {
     "name": "stdout",
     "output_type": "stream",
     "text": [
      "[[ 1.  1.  1.  1.  1.  1.  1.  1.  1.  1.  1.  1.  1.  1.  1.  1.  1.  1.\n",
      "   1.  1.  1.  1.  1.  1.  1.  1.  1.  1.  1.  1. -1. -1. -1. -1. -1. -1.\n",
      "  -1. -1. -1. -1. -1. -1. -1. -1. -1. -1. -1. -1. -1. -1. -1. -1. -1. -1.\n",
      "  -1. -1. -1. -1. -1. -1.]]\n",
      "[[1.         1.         1.         1.         1.         1.\n",
      "  1.         1.         1.         1.         1.         1.\n",
      "  1.         1.         1.         1.         1.         1.\n",
      "  1.         1.         1.         1.         1.         1.\n",
      "  1.         1.         1.         1.         1.         1.\n",
      "  1.         1.         1.         1.         1.         1.\n",
      "  1.         1.         1.         1.         1.         1.\n",
      "  1.         1.         1.         1.         1.         1.\n",
      "  1.         1.         1.         1.         1.         1.\n",
      "  1.         1.         1.         1.         1.         1.        ]\n",
      " [2.22096057 2.70132234 3.08493823 2.02701417 2.73223639 1.21171968\n",
      "  2.22920603 1.8637762  1.74682699 2.37191737 2.47403369 2.09281249\n",
      "  2.22222334 2.58438569 2.74493118 1.6355797  3.19217738 1.51075436\n",
      "  1.93784332 1.8787214  1.98435063 2.54694067 1.34122073 1.68360306\n",
      "  2.39495504 1.58503193 2.20448688 1.49739755 2.2036588  2.30754036\n",
      "  4.23924788 3.94688854 5.00981847 4.66070614 3.57343827 4.13824618\n",
      "  4.17589085 4.1950674  5.35017416 4.10713714 4.11200125 3.3085396\n",
      "  4.51153392 3.04405478 4.15254162 3.68244384 3.58334917 4.63624444\n",
      "  3.85831694 3.93727986 3.33290958 4.4697242  3.57395371 2.98379239\n",
      "  4.49008239 4.28779706 4.58326845 4.2536685  4.55700152 3.05419243]\n",
      " [2.19579728 3.43487375 2.70849736 1.47010441 2.32571583 2.23682627\n",
      "  1.72925457 1.59716548 2.27230351 2.37595358 2.4040742  1.65061706\n",
      "  2.11659863 2.05326933 2.67628604 2.63347726 3.2425902  2.11880111\n",
      "  1.56029947 2.12126884 2.32915756 3.32114999 1.19110126 1.70505616\n",
      "  2.43418025 1.41460218 2.17118254 2.06910612 2.43102051 1.47634363\n",
      "  2.1800686  2.0926817  3.03050457 2.01696944 1.9022653  2.51500409\n",
      "  2.20562564 2.90367155 3.3092753  1.19774325 2.07746801 1.86675739\n",
      "  1.89235835 1.58870979 2.30946373 1.93568992 2.21244285 3.10171506\n",
      "  1.76121109 0.88918865 1.50556893 2.66340908 2.73013273 1.18087489\n",
      "  2.22917145 2.03725257 2.31897762 2.02251099 2.14158843 0.39536933]]\n",
      "(3, 60)\n",
      "(1, 60)\n"
     ]
    }
   ],
   "source": [
    "import numpy as np\n",
    "import matplotlib.pyplot as plt\n",
    "from sklearn.metrics import accuracy_score\n",
    "\n",
    "np.random.seed(2)\n",
    "means = [[2, 2], [4, 2]]\n",
    "cov = [[.3, .2], [.2, .3]]\n",
    "N = 30\n",
    "X0 = np.random.multivariate_normal(means[0], cov, N).T\n",
    "X1 = np.random.multivariate_normal(means[1], cov, N).T\n",
    "X = np.concatenate((X0, X1), axis=1)\n",
    "y = np.concatenate((np.ones((1, N)), -1 * np.ones((1, N))), axis=1)\n",
    "# Xbar\n",
    "X = np.concatenate((np.ones((1, 2 * N)), X), axis=0)\n",
    "print(y)\n",
    "print(X)\n",
    "print(X.shape)\n",
    "print(y.shape)\n",
    "\n",
    "# print(type(X))"
   ],
   "metadata": {
    "collapsed": false
   }
  },
  {
   "cell_type": "code",
   "execution_count": 2,
   "outputs": [
    {
     "data": {
      "text/plain": "<Figure size 500x500 with 1 Axes>",
      "image/png": "[encoded data removed]"
     },
     "metadata": {},
     "output_type": "display_data"
    }
   ],
   "source": [
    "fig, ax = plt.subplots(figsize=(5, 5))\n",
    "ani = plt.cla()\n",
    "#plot points\n",
    "ani = plt.plot(X0[0, :], X0[1, :], 'b^', markersize=8, alpha=.8)\n",
    "ani = plt.plot(X1[0, :], X1[1, :], 'ro', markersize=8, alpha=.8)\n",
    "ani = plt.axis([0, 6, -2, 4])\n",
    "plt.show()"
   ],
   "metadata": {
    "collapsed": false
   }
  },
  {
   "cell_type": "code",
   "execution_count": 3,
   "outputs": [],
   "source": [
    "# Define h_w(x):= W^T.x + w_0 = \\bar{W}^T . \\bar{x}\n",
    "def h(w, x):\n",
    "    return np.sign(np.dot(w.T, x))"
   ],
   "metadata": {
    "collapsed": false
   }
  },
  {
   "cell_type": "code",
   "execution_count": 4,
   "outputs": [],
   "source": [
    "#Stop condition\n",
    "def has_converged(X, y, w):\n",
    "    return np.array_equal(h(w, X), y)  #True if h(w, X) == y else False"
   ],
   "metadata": {
    "collapsed": false
   }
  },
  {
   "cell_type": "code",
   "execution_count": 5,
   "outputs": [],
   "source": [
    "def perceptron(X, y, w_init):\n",
    "    w = [w_init]\n",
    "    N = X.shape[1]\n",
    "    mis_points = []  # set of miss position points\n",
    "    while True:\n",
    "        # mix data\n",
    "        mix_id = np.random.permutation(N)\n",
    "        for i in range(N):\n",
    "            xi = X[:, mix_id[i]].reshape(3, 1)\n",
    "            yi = y[0, mix_id[i]]\n",
    "            if h(w[-1], xi)[0] != yi:\n",
    "                mis_points.append(mix_id[i])\n",
    "                w_new = w[-1] + yi * xi\n",
    "                w.append(w_new)\n",
    "        if has_converged(X, y, w[-1]):\n",
    "            break\n",
    "    return (w, mis_points)"
   ],
   "metadata": {
    "collapsed": false
   }
  },
  {
   "cell_type": "code",
   "execution_count": 6,
   "outputs": [
    {
     "name": "stdout",
     "output_type": "stream",
     "text": [
      "[[ 13.97858527]\n",
      " [-15.02901929]\n",
      " [ 14.38743059]]\n",
      "[[1.         1.         1.         1.         1.         1.\n",
      "  1.         1.         1.         1.         1.         1.\n",
      "  1.         1.         1.         1.         1.         1.\n",
      "  1.         1.         1.         1.         1.         1.\n",
      "  1.         1.         1.         1.         1.         1.\n",
      "  1.         1.         1.         1.         1.         1.\n",
      "  1.         1.         1.         1.         1.         1.\n",
      "  1.         1.         1.         1.         1.         1.\n",
      "  1.         1.         1.         1.         1.         1.\n",
      "  1.         1.         1.         1.         1.         1.        ]\n",
      " [2.22096057 2.70132234 3.08493823 2.02701417 2.73223639 1.21171968\n",
      "  2.22920603 1.8637762  1.74682699 2.37191737 2.47403369 2.09281249\n",
      "  2.22222334 2.58438569 2.74493118 1.6355797  3.19217738 1.51075436\n",
      "  1.93784332 1.8787214  1.98435063 2.54694067 1.34122073 1.68360306\n",
      "  2.39495504 1.58503193 2.20448688 1.49739755 2.2036588  2.30754036\n",
      "  4.23924788 3.94688854 5.00981847 4.66070614 3.57343827 4.13824618\n",
      "  4.17589085 4.1950674  5.35017416 4.10713714 4.11200125 3.3085396\n",
      "  4.51153392 3.04405478 4.15254162 3.68244384 3.58334917 4.63624444\n",
      "  3.85831694 3.93727986 3.33290958 4.4697242  3.57395371 2.98379239\n",
      "  4.49008239 4.28779706 4.58326845 4.2536685  4.55700152 3.05419243]\n",
      " [2.19579728 3.43487375 2.70849736 1.47010441 2.32571583 2.23682627\n",
      "  1.72925457 1.59716548 2.27230351 2.37595358 2.4040742  1.65061706\n",
      "  2.11659863 2.05326933 2.67628604 2.63347726 3.2425902  2.11880111\n",
      "  1.56029947 2.12126884 2.32915756 3.32114999 1.19110126 1.70505616\n",
      "  2.43418025 1.41460218 2.17118254 2.06910612 2.43102051 1.47634363\n",
      "  2.1800686  2.0926817  3.03050457 2.01696944 1.9022653  2.51500409\n",
      "  2.20562564 2.90367155 3.3092753  1.19774325 2.07746801 1.86675739\n",
      "  1.89235835 1.58870979 2.30946373 1.93568992 2.21244285 3.10171506\n",
      "  1.76121109 0.88918865 1.50556893 2.66340908 2.73013273 1.18087489\n",
      "  2.22917145 2.03725257 2.31897762 2.02251099 2.14158843 0.39536933]]\n",
      "1.0\n"
     ]
    }
   ],
   "source": [
    "d = X.shape[0]\n",
    "w_init = np.random.randn(d, 1)\n",
    "(w, m) = perceptron(X, y, w_init)\n",
    "# print(w[-1])\n",
    "print(X)\n",
    "# print(accuracy_score(y, h(w[-1],X)))"
   ],
   "metadata": {
    "collapsed": false
   }
  },
  {
   "cell_type": "code",
   "execution_count": 18,
   "outputs": [
    {
     "name": "stdout",
     "output_type": "stream",
     "text": [
      "(208, 61)\n",
      "(1, 60)\n"
     ]
    }
   ],
   "source": [],
   "metadata": {
    "collapsed": false
   }
  },
  {
   "cell_type": "code",
   "execution_count": 7,
   "outputs": [],
   "source": [
    "def draw_line(w):\n",
    "    w0, w1, w2 = w[0], w[1], w[2]\n",
    "    if w2 != 0:\n",
    "        x11, x12 = -100, 100\n",
    "        return plt.plot([x11, x12], [-(w1 * x11 + w0) / w2, -(w1 * x12 + w0) / w2], 'k')\n",
    "    else:\n",
    "        x10 = -w0 / w1\n",
    "        return plt.plot([x10, x10], [-100, 100], 'k')"
   ],
   "metadata": {
    "collapsed": false
   }
  },
  {
   "cell_type": "code",
   "execution_count": 8,
   "outputs": [
    {
     "name": "stderr",
     "output_type": "stream",
     "text": [
      "MovieWriter imagemagick unavailable; using Pillow instead.\n"
     ]
    },
    {
     "data": {
      "text/plain": "<Figure size 500x500 with 1 Axes>",
      "image/png": "[encoded data removed]"
     },
     "metadata": {},
     "output_type": "display_data"
    }
   ],
   "source": [
    "## Visualization\n",
    "import matplotlib.animation as animation\n",
    "from matplotlib.animation import FuncAnimation\n",
    "\n",
    "\n",
    "def viz_alg_1d_2(w):\n",
    "    it = len(w)\n",
    "    fig, ax = plt.subplots(figsize=(5, 5))\n",
    "\n",
    "    def update(i):\n",
    "        ani = plt.cla()\n",
    "        #points\n",
    "        ani = plt.plot(X0[0, :], X0[1, :], 'b^', markersize=8, alpha=.8)\n",
    "        ani = plt.plot(X1[0, :], X1[1, :], 'ro', markersize=8, alpha=.8)\n",
    "        ani = plt.axis([0, 6, -2, 4])\n",
    "        i2 = i if i < it else it - 1\n",
    "        ani = draw_line(w[i2])\n",
    "        if i < it - 1:\n",
    "            # draw one misclassified point\n",
    "            circle = plt.Circle((X[1, m[i]], X[2, m[i]]), 0.15, color='k', fill=False)\n",
    "            ax.add_artist(circle)\n",
    "        # hide axis\n",
    "        cur_axes = plt.gca()\n",
    "        cur_axes.axes.get_xaxis().set_ticks([])\n",
    "        cur_axes.axes.get_yaxis().set_ticks([])\n",
    "        label = 'PLA: iter %d/%d' % (i2, it - 1)\n",
    "        ax.set_xlabel(label)\n",
    "        return ani, ax\n",
    "    anim = FuncAnimation(fig, update, frames=np.arange(0, it + 2), interval=1000)\n",
    "    # save\n",
    "    anim.save('D:\\\\pla_vis.gif', dpi=100, writer='imagemagick')\n",
    "    plt.show()\n",
    "viz_alg_1d_2(w)"
   ],
   "metadata": {
    "collapsed": false
   }
  },
  {
   "cell_type": "markdown",
   "source": [
    "#Ví Dụ 2"
   ],
   "metadata": {
    "collapsed": false
   }
  },
  {
   "cell_type": "code",
   "execution_count": 24,
   "outputs": [],
   "source": [
    "import numpy as np # linear algebra\n",
    "import pandas as pd # data processing, CSV file I/O (e.g. pd.read_csv)\n",
    "from matplotlib import pyplot\n",
    "import matplotlib.pyplot as plt\n",
    "import seaborn as sns"
   ],
   "metadata": {
    "collapsed": false
   }
  },
  {
   "cell_type": "code",
   "execution_count": 25,
   "outputs": [
    {
     "data": {
      "text/plain": "         0       1       2       3       4       5       6       7       8   \\\n0    0.0200  0.0371  0.0428  0.0207  0.0954  0.0986  0.1539  0.1601  0.3109   \n1    0.0453  0.0523  0.0843  0.0689  0.1183  0.2583  0.2156  0.3481  0.3337   \n2    0.0262  0.0582  0.1099  0.1083  0.0974  0.2280  0.2431  0.3771  0.5598   \n3    0.0100  0.0171  0.0623  0.0205  0.0205  0.0368  0.1098  0.1276  0.0598   \n4    0.0762  0.0666  0.0481  0.0394  0.0590  0.0649  0.1209  0.2467  0.3564   \n..      ...     ...     ...     ...     ...     ...     ...     ...     ...   \n203  0.0187  0.0346  0.0168  0.0177  0.0393  0.1630  0.2028  0.1694  0.2328   \n204  0.0323  0.0101  0.0298  0.0564  0.0760  0.0958  0.0990  0.1018  0.1030   \n205  0.0522  0.0437  0.0180  0.0292  0.0351  0.1171  0.1257  0.1178  0.1258   \n206  0.0303  0.0353  0.0490  0.0608  0.0167  0.1354  0.1465  0.1123  0.1945   \n207  0.0260  0.0363  0.0136  0.0272  0.0214  0.0338  0.0655  0.1400  0.1843   \n\n         9   ...      51      52      53      54      55      56      57  \\\n0    0.2111  ...  0.0027  0.0065  0.0159  0.0072  0.0167  0.0180  0.0084   \n1    0.2872  ...  0.0084  0.0089  0.0048  0.0094  0.0191  0.0140  0.0049   \n2    0.6194  ...  0.0232  0.0166  0.0095  0.0180  0.0244  0.0316  0.0164   \n3    0.1264  ...  0.0121  0.0036  0.0150  0.0085  0.0073  0.0050  0.0044   \n4    0.4459  ...  0.0031  0.0054  0.0105  0.0110  0.0015  0.0072  0.0048   \n..      ...  ...     ...     ...     ...     ...     ...     ...     ...   \n203  0.2684  ...  0.0116  0.0098  0.0199  0.0033  0.0101  0.0065  0.0115   \n204  0.2154  ...  0.0061  0.0093  0.0135  0.0063  0.0063  0.0034  0.0032   \n205  0.2529  ...  0.0160  0.0029  0.0051  0.0062  0.0089  0.0140  0.0138   \n206  0.2354  ...  0.0086  0.0046  0.0126  0.0036  0.0035  0.0034  0.0079   \n207  0.2354  ...  0.0146  0.0129  0.0047  0.0039  0.0061  0.0040  0.0036   \n\n         58      59  60  \n0    0.0090  0.0032   R  \n1    0.0052  0.0044   R  \n2    0.0095  0.0078   R  \n3    0.0040  0.0117   R  \n4    0.0107  0.0094   R  \n..      ...     ...  ..  \n203  0.0193  0.0157   M  \n204  0.0062  0.0067   M  \n205  0.0077  0.0031   M  \n206  0.0036  0.0048   M  \n207  0.0061  0.0115   M  \n\n[208 rows x 61 columns]",
      "text/html": "<div>\n<style scoped>\n    .dataframe tbody tr th:only-of-type {\n        vertical-align: middle;\n    }\n\n    .dataframe tbody tr th {\n        vertical-align: top;\n    }\n\n    .dataframe thead th {\n        text-align: right;\n    }\n</style>\n<table border=\"1\" class=\"dataframe\">\n  <thead>\n    <tr style=\"text-align: right;\">\n      <th></th>\n      <th>0</th>\n      <th>1</th>\n      <th>2</th>\n      <th>3</th>\n      <th>4</th>\n      <th>5</th>\n      <th>6</th>\n      <th>7</th>\n      <th>8</th>\n      <th>9</th>\n      <th>...</th>\n      <th>51</th>\n      <th>52</th>\n      <th>53</th>\n      <th>54</th>\n      <th>55</th>\n      <th>56</th>\n      <th>57</th>\n      <th>58</th>\n      <th>59</th>\n      <th>60</th>\n    </tr>\n  </thead>\n  <tbody>\n    <tr>\n      <th>0</th>\n      <td>0.0200</td>\n      <td>0.0371</td>\n      <td>0.0428</td>\n      <td>0.0207</td>\n      <td>0.0954</td>\n      <td>0.0986</td>\n      <td>0.1539</td>\n      <td>0.1601</td>\n      <td>0.3109</td>\n      <td>0.2111</td>\n      <td>...</td>\n      <td>0.0027</td>\n      <td>0.0065</td>\n      <td>0.0159</td>\n      <td>0.0072</td>\n      <td>0.0167</td>\n      <td>0.0180</td>\n      <td>0.0084</td>\n      <td>0.0090</td>\n      <td>0.0032</td>\n      <td>R</td>\n    </tr>\n    <tr>\n      <th>1</th>\n      <td>0.0453</td>\n      <td>0.0523</td>\n      <td>0.0843</td>\n      <td>0.0689</td>\n      <td>0.1183</td>\n      <td>0.2583</td>\n      <td>0.2156</td>\n      <td>0.3481</td>\n      <td>0.3337</td>\n      <td>0.2872</td>\n      <td>...</td>\n      <td>0.0084</td>\n      <td>0.0089</td>\n      <td>0.0048</td>\n      <td>0.0094</td>\n      <td>0.0191</td>\n      <td>0.0140</td>\n      <td>0.0049</td>\n      <td>0.0052</td>\n      <td>0.0044</td>\n      <td>R</td>\n    </tr>\n    <tr>\n      <th>2</th>\n      <td>0.0262</td>\n      <td>0.0582</td>\n      <td>0.1099</td>\n      <td>0.1083</td>\n      <td>0.0974</td>\n      <td>0.2280</td>\n      <td>0.2431</td>\n      <td>0.3771</td>\n      <td>0.5598</td>\n      <td>0.6194</td>\n      <td>...</td>\n      <td>0.0232</td>\n      <td>0.0166</td>\n      <td>0.0095</td>\n      <td>0.0180</td>\n      <td>0.0244</td>\n      <td>0.0316</td>\n      <td>0.0164</td>\n      <td>0.0095</td>\n      <td>0.0078</td>\n      <td>R</td>\n    </tr>\n    <tr>\n      <th>3</th>\n      <td>0.0100</td>\n      <td>0.0171</td>\n      <td>0.0623</td>\n      <td>0.0205</td>\n      <td>0.0205</td>\n      <td>0.0368</td>\n      <td>0.1098</td>\n      <td>0.1276</td>\n      <td>0.0598</td>\n      <td>0.1264</td>\n      <td>...</td>\n      <td>0.0121</td>\n      <td>0.0036</td>\n      <td>0.0150</td>\n      <td>0.0085</td>\n      <td>0.0073</td>\n      <td>0.0050</td>\n      <td>0.0044</td>\n      <td>0.0040</td>\n      <td>0.0117</td>\n      <td>R</td>\n    </tr>\n    <tr>\n      <th>4</th>\n      <td>0.0762</td>\n      <td>0.0666</td>\n      <td>0.0481</td>\n      <td>0.0394</td>\n      <td>0.0590</td>\n      <td>0.0649</td>\n      <td>0.1209</td>\n      <td>0.2467</td>\n      <td>0.3564</td>\n      <td>0.4459</td>\n      <td>...</td>\n      <td>0.0031</td>\n      <td>0.0054</td>\n      <td>0.0105</td>\n      <td>0.0110</td>\n      <td>0.0015</td>\n      <td>0.0072</td>\n      <td>0.0048</td>\n      <td>0.0107</td>\n      <td>0.0094</td>\n      <td>R</td>\n    </tr>\n    <tr>\n      <th>...</th>\n      <td>...</td>\n      <td>...</td>\n      <td>...</td>\n      <td>...</td>\n      <td>...</td>\n      <td>...</td>\n      <td>...</td>\n      <td>...</td>\n      <td>...</td>\n      <td>...</td>\n      <td>...</td>\n      <td>...</td>\n      <td>...</td>\n      <td>...</td>\n      <td>...</td>\n      <td>...</td>\n      <td>...</td>\n      <td>...</td>\n      <td>...</td>\n      <td>...</td>\n      <td>...</td>\n    </tr>\n    <tr>\n      <th>203</th>\n      <td>0.0187</td>\n      <td>0.0346</td>\n      <td>0.0168</td>\n      <td>0.0177</td>\n      <td>0.0393</td>\n      <td>0.1630</td>\n      <td>0.2028</td>\n      <td>0.1694</td>\n      <td>0.2328</td>\n      <td>0.2684</td>\n      <td>...</td>\n      <td>0.0116</td>\n      <td>0.0098</td>\n      <td>0.0199</td>\n      <td>0.0033</td>\n      <td>0.0101</td>\n      <td>0.0065</td>\n      <td>0.0115</td>\n      <td>0.0193</td>\n      <td>0.0157</td>\n      <td>M</td>\n    </tr>\n    <tr>\n      <th>204</th>\n      <td>0.0323</td>\n      <td>0.0101</td>\n      <td>0.0298</td>\n      <td>0.0564</td>\n      <td>0.0760</td>\n      <td>0.0958</td>\n      <td>0.0990</td>\n      <td>0.1018</td>\n      <td>0.1030</td>\n      <td>0.2154</td>\n      <td>...</td>\n      <td>0.0061</td>\n      <td>0.0093</td>\n      <td>0.0135</td>\n      <td>0.0063</td>\n      <td>0.0063</td>\n      <td>0.0034</td>\n      <td>0.0032</td>\n      <td>0.0062</td>\n      <td>0.0067</td>\n      <td>M</td>\n    </tr>\n    <tr>\n      <th>205</th>\n      <td>0.0522</td>\n      <td>0.0437</td>\n      <td>0.0180</td>\n      <td>0.0292</td>\n      <td>0.0351</td>\n      <td>0.1171</td>\n      <td>0.1257</td>\n      <td>0.1178</td>\n      <td>0.1258</td>\n      <td>0.2529</td>\n      <td>...</td>\n      <td>0.0160</td>\n      <td>0.0029</td>\n      <td>0.0051</td>\n      <td>0.0062</td>\n      <td>0.0089</td>\n      <td>0.0140</td>\n      <td>0.0138</td>\n      <td>0.0077</td>\n      <td>0.0031</td>\n      <td>M</td>\n    </tr>\n    <tr>\n      <th>206</th>\n      <td>0.0303</td>\n      <td>0.0353</td>\n      <td>0.0490</td>\n      <td>0.0608</td>\n      <td>0.0167</td>\n      <td>0.1354</td>\n      <td>0.1465</td>\n      <td>0.1123</td>\n      <td>0.1945</td>\n      <td>0.2354</td>\n      <td>...</td>\n      <td>0.0086</td>\n      <td>0.0046</td>\n      <td>0.0126</td>\n      <td>0.0036</td>\n      <td>0.0035</td>\n      <td>0.0034</td>\n      <td>0.0079</td>\n      <td>0.0036</td>\n      <td>0.0048</td>\n      <td>M</td>\n    </tr>\n    <tr>\n      <th>207</th>\n      <td>0.0260</td>\n      <td>0.0363</td>\n      <td>0.0136</td>\n      <td>0.0272</td>\n      <td>0.0214</td>\n      <td>0.0338</td>\n      <td>0.0655</td>\n      <td>0.1400</td>\n      <td>0.1843</td>\n      <td>0.2354</td>\n      <td>...</td>\n      <td>0.0146</td>\n      <td>0.0129</td>\n      <td>0.0047</td>\n      <td>0.0039</td>\n      <td>0.0061</td>\n      <td>0.0040</td>\n      <td>0.0036</td>\n      <td>0.0061</td>\n      <td>0.0115</td>\n      <td>M</td>\n    </tr>\n  </tbody>\n</table>\n<p>208 rows × 61 columns</p>\n</div>"
     },
     "execution_count": 25,
     "metadata": {},
     "output_type": "execute_result"
    }
   ],
   "source": [
    "main_df = pd.read_csv('sonar.all-data.csv',header=None)\n",
    "main_df"
   ],
   "metadata": {
    "collapsed": false
   }
  },
  {
   "cell_type": "code",
   "execution_count": 26,
   "outputs": [
    {
     "data": {
      "text/plain": "<Axes: >"
     },
     "execution_count": 26,
     "metadata": {},
     "output_type": "execute_result"
    },
    {
     "data": {
      "text/plain": "<Figure size 640x480 with 1 Axes>",
      "image/png": "[encoded data removed]"
     },
     "metadata": {},
     "output_type": "display_data"
    }
   ],
   "source": [
    "main_df[60].value_counts().plot(kind='barh')"
   ],
   "metadata": {
    "collapsed": false
   }
  },
  {
   "cell_type": "code",
   "execution_count": 27,
   "outputs": [
    {
     "name": "stdout",
     "output_type": "stream",
     "text": [
      "[-1, -1, -1, -1, -1, -1, -1, -1, -1, -1, -1, -1, -1, -1, -1, -1, -1, -1, -1, -1, -1, -1, -1, -1, -1, -1, -1, -1, -1, -1, -1, -1, -1, -1, -1, -1, -1, -1, -1, -1, -1, -1, -1, -1, -1, -1, -1, -1, -1, -1, -1, -1, -1, -1, -1, -1, -1, -1, -1, -1, -1, -1, -1, -1, -1, -1, -1, -1, -1, -1, -1, -1, -1, -1, -1, -1, -1, -1, -1, -1, -1, -1, -1, -1, -1, -1, -1, -1, -1, -1, -1, -1, -1, -1, -1, -1, -1, 1, 1, 1, 1, 1, 1, 1, 1, 1, 1, 1, 1, 1, 1, 1, 1, 1, 1, 1, 1, 1, 1, 1, 1, 1, 1, 1, 1, 1, 1, 1, 1, 1, 1, 1, 1, 1, 1, 1, 1, 1, 1, 1, 1, 1, 1, 1, 1, 1, 1, 1, 1, 1, 1, 1, 1, 1, 1, 1, 1, 1, 1, 1, 1, 1, 1, 1, 1, 1, 1, 1, 1, 1, 1, 1, 1, 1, 1, 1, 1, 1, 1, 1, 1, 1, 1, 1, 1, 1, 1, 1, 1, 1, 1, 1, 1, 1, 1, 1, 1, 1, 1, 1, 1, 1, 1, 1, 1, 1, 1, 1]\n"
     ]
    }
   ],
   "source": [
    "y_df = main_df[60]\n",
    "targes_label = {'M': 1,'R': -1}\n",
    "targes_df = [targes_label[item] for item in y_df]\n",
    "print(targes_df)"
   ],
   "metadata": {
    "collapsed": false
   }
  },
  {
   "cell_type": "code",
   "execution_count": 28,
   "outputs": [],
   "source": [
    "inputs_df = main_df.drop(60, axis=1)\n",
    "x0 = np.ones(( inputs_df.shape[0], 1))\n",
    "X = np.concatenate((x0, inputs_df), axis = 1)"
   ],
   "metadata": {
    "collapsed": false
   }
  },
  {
   "cell_type": "code",
   "execution_count": 33,
   "outputs": [
    {
     "name": "stdout",
     "output_type": "stream",
     "text": [
      "(145, 61)\n",
      "145\n"
     ]
    }
   ],
   "source": [
    "from sklearn.model_selection import train_test_split\n",
    "X_train, X_test, y_train, y_test = train_test_split(X, targes_df, test_size=0.30, random_state=42)\n",
    "print(X_train.shape)\n",
    "print(len(y_train))"
   ],
   "metadata": {
    "collapsed": false
   }
  },
  {
   "cell_type": "code",
   "execution_count": 34,
   "outputs": [
    {
     "name": "stdout",
     "output_type": "stream",
     "text": [
      "(61, 145)\n",
      "(1, 145)\n"
     ]
    }
   ],
   "source": [
    "# tien xu ly\n",
    "X_train = np.transpose(X_train)\n",
    "y_train = np.array(y_train).reshape(1,-1)\n",
    "print(X_train.shape)\n",
    "print(y_train.shape)\n"
   ],
   "metadata": {
    "collapsed": false
   }
  },
  {
   "cell_type": "code",
   "execution_count": 37,
   "outputs": [],
   "source": [
    "def perceptron(X, y, w_init):\n",
    "    print(X.shape)\n",
    "    print(y.shape)\n",
    "    w = [w_init]\n",
    "    N = X.shape[1]\n",
    "    mis_points = []  # set of miss position points\n",
    "    while True:\n",
    "        # mix data\n",
    "        mix_id = np.random.permutation(N)\n",
    "        for i in range(N):\n",
    "            xi = X[:, mix_id[i]].reshape(61, 1)\n",
    "            yi = y[0, mix_id[i]]\n",
    "            if h(w[-1], xi)[0] != yi:\n",
    "                mis_points.append(mix_id[i])\n",
    "                w_new = w[-1] + yi * xi\n",
    "                w.append(w_new)\n",
    "        if has_converged(X, y, w[-1]):\n",
    "            break\n",
    "    return (w, mis_points)\n"
   ],
   "metadata": {
    "collapsed": false
   }
  },
  {
   "cell_type": "code",
   "execution_count": 39,
   "outputs": [
    {
     "name": "stdout",
     "output_type": "stream",
     "text": [
      "(61, 1)\n",
      "(61, 145)\n",
      "(1, 145)\n"
     ]
    }
   ],
   "source": [
    "d = X_train.shape[0]\n",
    "w_init = np.random.randn(d, 1)\n",
    "print(w_init.shape)\n",
    "(w, m) = perceptron(X_train, y_train, w_init)"
   ],
   "metadata": {
    "collapsed": false
   }
  },
  {
   "cell_type": "code",
   "execution_count": 40,
   "outputs": [],
   "source": [
    "w_best = w[-1]"
   ],
   "metadata": {
    "collapsed": false
   }
  },
  {
   "cell_type": "code",
   "execution_count": 41,
   "outputs": [
    {
     "name": "stdout",
     "output_type": "stream",
     "text": [
      "[[ -40.72452266]\n",
      " [ 155.13970861]\n",
      " [ -49.6364567 ]\n",
      " [-155.3780247 ]\n",
      " [ 156.23141703]\n",
      " [  40.63612716]\n",
      " [  33.08185666]\n",
      " [ -68.52957559]\n",
      " [ -26.44669106]\n",
      " [  53.59002427]\n",
      " [ -56.24617945]\n",
      " [  85.34674543]\n",
      " [  14.17989648]\n",
      " [  -4.19179827]\n",
      " [  -8.51951849]\n",
      " [  10.37891744]\n",
      " [ -28.18118222]\n",
      " [ -33.59190098]\n",
      " [  43.68860768]\n",
      " [ -19.96328598]\n",
      " [  55.19556273]\n",
      " [ -78.4803435 ]\n",
      " [  78.22790375]\n",
      " [ -56.77629984]\n",
      " [  66.51744826]\n",
      " [  -8.01320064]\n",
      " [ -14.13214339]\n",
      " [  -0.49866342]\n",
      " [  16.84572745]\n",
      " [ -27.95712599]\n",
      " [  73.40355872]\n",
      " [-104.13864397]\n",
      " [  31.55578788]\n",
      " [  41.60895251]\n",
      " [ -50.63326622]\n",
      " [  37.26939469]\n",
      " [ -68.80311891]\n",
      " [  16.52912675]\n",
      " [ -10.07317593]\n",
      " [  56.13245021]\n",
      " [ -53.94771431]\n",
      " [  -8.88197439]\n",
      " [ -27.59390169]\n",
      " [  62.25817619]\n",
      " [  -1.65370907]\n",
      " [  -6.68847936]\n",
      " [  55.72465058]\n",
      " [ -46.38049304]\n",
      " [ 145.1331809 ]\n",
      " [ 151.54523265]\n",
      " [-213.10047487]\n",
      " [ 100.95165989]\n",
      " [  68.9586512 ]\n",
      " [  22.90734193]\n",
      " [ 120.65003874]\n",
      " [  -5.92720249]\n",
      " [ -67.36290852]\n",
      " [ -91.38383396]\n",
      " [  47.24522102]\n",
      " [ 113.2790583 ]\n",
      " [  66.43063603]]\n"
     ]
    }
   ],
   "source": [
    "print(w_best)"
   ],
   "metadata": {
    "collapsed": false
   }
  },
  {
   "cell_type": "code",
   "execution_count": 44,
   "outputs": [
    {
     "name": "stdout",
     "output_type": "stream",
     "text": [
      "(63, 61)\n"
     ]
    }
   ],
   "source": [
    "print(X_test.shape)"
   ],
   "metadata": {
    "collapsed": false
   }
  },
  {
   "cell_type": "code",
   "execution_count": 45,
   "outputs": [
    {
     "name": "stdout",
     "output_type": "stream",
     "text": [
      "(61, 145)\n",
      "(1, 145)\n"
     ]
    }
   ],
   "source": [
    "X_test = np.transpose(X_test)\n",
    "y_test = np.array(y_test).reshape(1,-1)\n"
   ],
   "metadata": {
    "collapsed": false
   }
  },
  {
   "cell_type": "code",
   "execution_count": 46,
   "outputs": [
    {
     "name": "stdout",
     "output_type": "stream",
     "text": [
      "(61, 63)\n",
      "(1, 63)\n"
     ]
    }
   ],
   "source": [
    "print(X_test.shape)\n",
    "print(y_test.shape)"
   ],
   "metadata": {
    "collapsed": false
   }
  },
  {
   "cell_type": "code",
   "execution_count": 47,
   "outputs": [],
   "source": [
    "y_pred = h(w_best, X_test)"
   ],
   "metadata": {
    "collapsed": false
   }
  },
  {
   "cell_type": "code",
   "execution_count": 48,
   "outputs": [
    {
     "name": "stdout",
     "output_type": "stream",
     "text": [
      "0.0\n"
     ]
    }
   ],
   "source": [
    "print(accuracy_score(y_test, y_pred))"
   ],
   "metadata": {
    "collapsed": false
   }
  },
  {
   "cell_type": "code",
   "execution_count": 56,
   "outputs": [
    {
     "name": "stdout",
     "output_type": "stream",
     "text": [
      "[[ 1 -1 -1 -1  1 -1  1  1 -1  1  1 -1  1  1  1  1  1  1 -1 -1  1  1  1  1\n",
      "  -1 -1 -1 -1  1  1  1 -1 -1  1  1  1  1  1 -1  1 -1  1 -1  1 -1 -1  1  1\n",
      "  -1 -1 -1  1 -1 -1 -1 -1  1  1 -1  1 -1  1  1]]\n",
      "[[ 1 -1  1 -1  1  1  1  1 -1  1  1 -1  1  1 -1  1  1  1  1 -1  1  1 -1  1\n",
      "  -1 -1 -1 -1  1  1 -1 -1 -1  1  1  1  1  1 -1 -1 -1 -1 -1  1 -1  1  1  1\n",
      "  -1 -1 -1  1 -1  1  1  1  1  1 -1  1  1  1 -1]]\n",
      "0.0\n"
     ]
    }
   ],
   "source": [
    "y_pred= np.array(y_pred, dtype= 'int')\n",
    "print(y_test)\n",
    "print(y_pred)\n",
    "print(accuracy_score(y_pred, y_test))"
   ],
   "metadata": {
    "collapsed": false
   }
  },
  {
   "cell_type": "code",
   "execution_count": null,
   "outputs": [],
   "source": [],
   "metadata": {
    "collapsed": false
   }
  }
 ],
 "metadata": {
  "kernelspec": {
   "display_name": "Python 3",
   "language": "python",
   "name": "python3"
  },
  "language_info": {
   "codemirror_mode": {
    "name": "ipython",
    "version": 2
   },
   "file_extension": ".py",
   "mimetype": "text/x-python",
   "name": "python",
   "nbconvert_exporter": "python",
   "pygments_lexer": "ipython2",
   "version": "2.7.6"
  }
 },
 "nbformat": 4,
 "nbformat_minor": 0
}
